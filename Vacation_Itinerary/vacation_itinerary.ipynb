{
 "cells": [
  {
   "cell_type": "markdown",
   "metadata": {},
   "source": [
    "## Deliverable 3. Create a Travel Itinerary Map."
   ]
  },
  {
   "cell_type": "code",
   "execution_count": 40,
   "metadata": {},
   "outputs": [],
   "source": [
    "# Dependencies and Setup\n",
    "import pandas as pd\n",
    "import requests\n",
    "import gmaps\n",
    "import gmaps.datasets\n",
    "import os\n",
    "\n",
    "# Import API key\n",
    "from config_weather_2 import g_key\n",
    "\n",
    "# Configure gmaps\n",
    "gmaps.configure(api_key=g_key)"
   ]
  },
  {
   "cell_type": "code",
   "execution_count": 2,
   "metadata": {},
   "outputs": [
    {
     "data": {
      "text/html": [
       "<div>\n",
       "<style scoped>\n",
       "    .dataframe tbody tr th:only-of-type {\n",
       "        vertical-align: middle;\n",
       "    }\n",
       "\n",
       "    .dataframe tbody tr th {\n",
       "        vertical-align: top;\n",
       "    }\n",
       "\n",
       "    .dataframe thead th {\n",
       "        text-align: right;\n",
       "    }\n",
       "</style>\n",
       "<table border=\"1\" class=\"dataframe\">\n",
       "  <thead>\n",
       "    <tr style=\"text-align: right;\">\n",
       "      <th></th>\n",
       "      <th>City_ID</th>\n",
       "      <th>city</th>\n",
       "      <th>country</th>\n",
       "      <th>max_temp</th>\n",
       "      <th>weather_description</th>\n",
       "      <th>latitude</th>\n",
       "      <th>longitude</th>\n",
       "      <th>hotel_name</th>\n",
       "    </tr>\n",
       "  </thead>\n",
       "  <tbody>\n",
       "    <tr>\n",
       "      <th>0</th>\n",
       "      <td>4</td>\n",
       "      <td>Road Town</td>\n",
       "      <td>VG</td>\n",
       "      <td>86.04</td>\n",
       "      <td>scattered clouds</td>\n",
       "      <td>-64.6167</td>\n",
       "      <td>18.4167</td>\n",
       "      <td>ZINGARA 76ft Catamaran, full crew-all included</td>\n",
       "    </tr>\n",
       "    <tr>\n",
       "      <th>1</th>\n",
       "      <td>14</td>\n",
       "      <td>Kahului</td>\n",
       "      <td>US</td>\n",
       "      <td>82.42</td>\n",
       "      <td>scattered clouds</td>\n",
       "      <td>-156.4700</td>\n",
       "      <td>20.8947</td>\n",
       "      <td>Maui Seaside Hotel</td>\n",
       "    </tr>\n",
       "    <tr>\n",
       "      <th>2</th>\n",
       "      <td>34</td>\n",
       "      <td>Butaritari</td>\n",
       "      <td>KI</td>\n",
       "      <td>80.83</td>\n",
       "      <td>light rain</td>\n",
       "      <td>172.7902</td>\n",
       "      <td>3.0707</td>\n",
       "      <td>Isles Sunset Lodge</td>\n",
       "    </tr>\n",
       "    <tr>\n",
       "      <th>3</th>\n",
       "      <td>39</td>\n",
       "      <td>Kapaa</td>\n",
       "      <td>US</td>\n",
       "      <td>80.11</td>\n",
       "      <td>scattered clouds</td>\n",
       "      <td>-159.3190</td>\n",
       "      <td>22.0752</td>\n",
       "      <td>Sheraton Kauai Coconut Beach Resort</td>\n",
       "    </tr>\n",
       "    <tr>\n",
       "      <th>4</th>\n",
       "      <td>46</td>\n",
       "      <td>Georgetown</td>\n",
       "      <td>MY</td>\n",
       "      <td>82.33</td>\n",
       "      <td>few clouds</td>\n",
       "      <td>100.3354</td>\n",
       "      <td>5.4112</td>\n",
       "      <td>Cititel Penang</td>\n",
       "    </tr>\n",
       "  </tbody>\n",
       "</table>\n",
       "</div>"
      ],
      "text/plain": [
       "   City_ID        city country  max_temp weather_description  latitude  \\\n",
       "0        4   Road Town      VG     86.04    scattered clouds  -64.6167   \n",
       "1       14     Kahului      US     82.42    scattered clouds -156.4700   \n",
       "2       34  Butaritari      KI     80.83          light rain  172.7902   \n",
       "3       39       Kapaa      US     80.11    scattered clouds -159.3190   \n",
       "4       46  Georgetown      MY     82.33          few clouds  100.3354   \n",
       "\n",
       "   longitude                                      hotel_name  \n",
       "0    18.4167  ZINGARA 76ft Catamaran, full crew-all included  \n",
       "1    20.8947                              Maui Seaside Hotel  \n",
       "2     3.0707                              Isles Sunset Lodge  \n",
       "3    22.0752             Sheraton Kauai Coconut Beach Resort  \n",
       "4     5.4112                                  Cititel Penang  "
      ]
     },
     "execution_count": 2,
     "metadata": {},
     "output_type": "execute_result"
    }
   ],
   "source": [
    "# 1. Read the WeatherPy_vacation.csv into a DataFrame.\n",
    "\n",
    "file_path=os.path.join(\"..\", \"Weather database\", \"WeatherPy_vacation.csv\")\n",
    "\n",
    "vacation_df = pd.read_csv(file_path)\n",
    "vacation_df.head()"
   ]
  },
  {
   "cell_type": "code",
   "execution_count": 11,
   "metadata": {},
   "outputs": [],
   "source": [
    "# 2. Using the template add the city name, the country code, the weather description and maximum temperature for the city.\n",
    "info_box_template = \"\"\"\n",
    "<dl>\n",
    "<dt>City</dt><dd>{city}</dd>\n",
    "<dt>Country</dt><dd>{country}</dd>\n",
    "<dt>Weather Description</dt><dd>{weather_description}</dd>\n",
    "<dt>Max Temp</dt><dd>{max_temp}</dd>\n",
    "</dl>\n",
    "\"\"\"\n",
    "\n",
    "# 3a. Get the data from each row and add it to the formatting template and store the data in a list.\n",
    "hotel_info = [info_box_template.format(**row) for index, row in vacation_df.iterrows()] #changed clean_hotel_df to vacation_df\n",
    "\n",
    "# 3b. Get the latitude and longitude from each row and store in a new DataFrame.\n",
    "locations = vacation_df[[\"longitude\", \"latitude\"]] #changed clean_hotel_df to vacation_df\n"
   ]
  },
  {
   "cell_type": "code",
   "execution_count": 12,
   "metadata": {},
   "outputs": [
    {
     "data": {
      "application/vnd.jupyter.widget-view+json": {
       "model_id": "4c57d27e96bc4700896393e5cdd32e02",
       "version_major": 2,
       "version_minor": 0
      },
      "text/plain": [
       "Figure(layout=FigureLayout(height='420px'))"
      ]
     },
     "metadata": {},
     "output_type": "display_data"
    }
   ],
   "source": [
    "# 4a. Add a marker layer for each city to the map.\n",
    "fig=gmaps.figure(center=(31.0,31.0), zoom_level=1.5)\n",
    "marker_layer = gmaps.marker_layer(locations, info_box_content=hotel_info)\n",
    "fig.add_layer(marker_layer)\n",
    "\n",
    "# 4b. Display the figure\n",
    "fig"
   ]
  },
  {
   "cell_type": "code",
   "execution_count": 94,
   "metadata": {},
   "outputs": [
    {
     "data": {
      "text/html": [
       "<div>\n",
       "<style scoped>\n",
       "    .dataframe tbody tr th:only-of-type {\n",
       "        vertical-align: middle;\n",
       "    }\n",
       "\n",
       "    .dataframe tbody tr th {\n",
       "        vertical-align: top;\n",
       "    }\n",
       "\n",
       "    .dataframe thead th {\n",
       "        text-align: right;\n",
       "    }\n",
       "</style>\n",
       "<table border=\"1\" class=\"dataframe\">\n",
       "  <thead>\n",
       "    <tr style=\"text-align: right;\">\n",
       "      <th></th>\n",
       "      <th>City_ID</th>\n",
       "      <th>city</th>\n",
       "      <th>country</th>\n",
       "      <th>max_temp</th>\n",
       "      <th>weather_description</th>\n",
       "      <th>latitude</th>\n",
       "      <th>longitude</th>\n",
       "      <th>hotel_name</th>\n",
       "    </tr>\n",
       "  </thead>\n",
       "  <tbody>\n",
       "    <tr>\n",
       "      <th>87</th>\n",
       "      <td>597</td>\n",
       "      <td>Salinopolis</td>\n",
       "      <td>BR</td>\n",
       "      <td>80.4</td>\n",
       "      <td>overcast clouds</td>\n",
       "      <td>-47.3561</td>\n",
       "      <td>-0.6136</td>\n",
       "      <td>Salinas Park Resort Maçarico AP101</td>\n",
       "    </tr>\n",
       "  </tbody>\n",
       "</table>\n",
       "</div>"
      ],
      "text/plain": [
       "    City_ID         city country  max_temp weather_description  latitude  \\\n",
       "87      597  Salinopolis      BR      80.4     overcast clouds  -47.3561   \n",
       "\n",
       "    longitude                          hotel_name  \n",
       "87    -0.6136  Salinas Park Resort Maçarico AP101  "
      ]
     },
     "execution_count": 94,
     "metadata": {},
     "output_type": "execute_result"
    }
   ],
   "source": [
    "# From the map above pick 4 cities and create a vacation itinerary route to travel between the four cities. \n",
    "#4 cities are: Conceicao Do Araguaia, Urucui, Simplicio Mendes, Salinopolis\n",
    "\n",
    "# 5. Create DataFrames for each city by filtering the 'vacation_df' using the loc method. \n",
    "# Hint: The starting and ending city should be the same city.\n",
    "\n",
    "vacation_start = vacation_df.loc[vacation_df[\"city\"]==\"Conceicao Do Araguaia\"]\n",
    "vacation_end = vacation_df.loc[vacation_df[\"city\"]==\"Conceicao Do Araguaia\"]\n",
    "vacation_stop1 = vacation_df.loc[vacation_df[\"city\"]==\"Urucui\"]\n",
    "vacation_stop2 = vacation_df.loc[vacation_df[\"city\"]==\"Simplicio Mendes\"] \n",
    "vacation_stop3 = vacation_df.loc[vacation_df[\"city\"]==\"Salinopolis\"] \n",
    "vacation_stop3"
   ]
  },
  {
   "cell_type": "code",
   "execution_count": 95,
   "metadata": {},
   "outputs": [
    {
     "data": {
      "text/plain": [
       "(-8.2578, -49.2647)"
      ]
     },
     "execution_count": 95,
     "metadata": {},
     "output_type": "execute_result"
    }
   ],
   "source": [
    "# 6. Get the latitude-longitude pairs as tuples from each city DataFrame using the to_numpy function and list indexing.\n",
    "start = ((vacation_start[\"longitude\"].to_numpy()[0]), (vacation_start[\"latitude\"].to_numpy()[0])) #to_numpy makes the slice of the dataframe into an array\n",
    "end = ((vacation_end.to_numpy()[0][6]), (vacation_end.to_numpy()[0][5]))       #my lat and lng are still switched, so unswitching them here\n",
    "stop1 = ((vacation_stop1.to_numpy()[0][6]), (vacation_stop1.to_numpy()[0][5]))\n",
    "stop2 = ((vacation_stop2.to_numpy()[0][6]), (vacation_stop2.to_numpy()[0][5]))\n",
    "stop3 = ((vacation_stop3.to_numpy()[0][6]), (vacation_stop3.to_numpy()[0][5]))\n",
    "start"
   ]
  },
  {
   "cell_type": "code",
   "execution_count": 98,
   "metadata": {
    "scrolled": true
   },
   "outputs": [
    {
     "data": {
      "application/vnd.jupyter.widget-view+json": {
       "model_id": "f47e40367b104e92839b3444b17b9ec9",
       "version_major": 2,
       "version_minor": 0
      },
      "text/plain": [
       "Figure(layout=FigureLayout(height='420px'))"
      ]
     },
     "metadata": {},
     "output_type": "display_data"
    }
   ],
   "source": [
    "# 7. Create a direction layer map using the start and end latitude-longitude pairs,\n",
    "# and stop1, stop2, and stop3 as the waypoints. The travel_mode should be \"DRIVING\", \"BICYCLING\", or \"WALKING\".\n",
    "\n",
    "fig = gmaps.figure()\n",
    "\n",
    "#biking layer\n",
    "bike = gmaps.directions_layer(start, end, waypoints=[stop1, stop2, stop3], travel_mode=\"BICYCLING\") #, \"BICYCLING\", \"WALKING\"])\n",
    "#fig.add_layer(bike)\n",
    "\n",
    "#driving layer\n",
    "drive = gmaps.directions_layer(start, end, waypoints=[stop1, stop2, stop3], travel_mode=\"DRIVING\")\n",
    "fig.add_layer(drive)\n",
    "\n",
    "#Walking layer\n",
    "walk = gmaps.directions_layer(start, end, waypoints=[stop1, stop2, stop3], travel_mode=\"WALKING\")\n",
    "#fig.add_layer(walk)\n",
    "\n",
    "#display fig\n",
    "fig"
   ]
  },
  {
   "cell_type": "code",
   "execution_count": 99,
   "metadata": {},
   "outputs": [
    {
     "data": {
      "text/html": [
       "<div>\n",
       "<style scoped>\n",
       "    .dataframe tbody tr th:only-of-type {\n",
       "        vertical-align: middle;\n",
       "    }\n",
       "\n",
       "    .dataframe tbody tr th {\n",
       "        vertical-align: top;\n",
       "    }\n",
       "\n",
       "    .dataframe thead th {\n",
       "        text-align: right;\n",
       "    }\n",
       "</style>\n",
       "<table border=\"1\" class=\"dataframe\">\n",
       "  <thead>\n",
       "    <tr style=\"text-align: right;\">\n",
       "      <th></th>\n",
       "      <th>City_ID</th>\n",
       "      <th>city</th>\n",
       "      <th>country</th>\n",
       "      <th>max_temp</th>\n",
       "      <th>weather_description</th>\n",
       "      <th>latitude</th>\n",
       "      <th>longitude</th>\n",
       "      <th>hotel_name</th>\n",
       "    </tr>\n",
       "  </thead>\n",
       "  <tbody>\n",
       "    <tr>\n",
       "      <th>0</th>\n",
       "      <td>617</td>\n",
       "      <td>Conceicao Do Araguaia</td>\n",
       "      <td>BR</td>\n",
       "      <td>87.35</td>\n",
       "      <td>scattered clouds</td>\n",
       "      <td>-49.2647</td>\n",
       "      <td>-8.2578</td>\n",
       "      <td>Tarumã Tropical Hotel</td>\n",
       "    </tr>\n",
       "    <tr>\n",
       "      <th>1</th>\n",
       "      <td>261</td>\n",
       "      <td>Urucui</td>\n",
       "      <td>BR</td>\n",
       "      <td>89.87</td>\n",
       "      <td>few clouds</td>\n",
       "      <td>-44.5561</td>\n",
       "      <td>-7.2294</td>\n",
       "      <td>Hotel Premium Piauí</td>\n",
       "    </tr>\n",
       "    <tr>\n",
       "      <th>2</th>\n",
       "      <td>575</td>\n",
       "      <td>Simplicio Mendes</td>\n",
       "      <td>BR</td>\n",
       "      <td>86.90</td>\n",
       "      <td>scattered clouds</td>\n",
       "      <td>-41.9103</td>\n",
       "      <td>-7.8539</td>\n",
       "      <td>Fidalgo</td>\n",
       "    </tr>\n",
       "    <tr>\n",
       "      <th>3</th>\n",
       "      <td>597</td>\n",
       "      <td>Salinopolis</td>\n",
       "      <td>BR</td>\n",
       "      <td>80.40</td>\n",
       "      <td>overcast clouds</td>\n",
       "      <td>-47.3561</td>\n",
       "      <td>-0.6136</td>\n",
       "      <td>Salinas Park Resort Maçarico AP101</td>\n",
       "    </tr>\n",
       "  </tbody>\n",
       "</table>\n",
       "</div>"
      ],
      "text/plain": [
       "   City_ID                   city country  max_temp weather_description  \\\n",
       "0      617  Conceicao Do Araguaia      BR     87.35    scattered clouds   \n",
       "1      261                 Urucui      BR     89.87          few clouds   \n",
       "2      575       Simplicio Mendes      BR     86.90    scattered clouds   \n",
       "3      597            Salinopolis      BR     80.40     overcast clouds   \n",
       "\n",
       "   latitude  longitude                          hotel_name  \n",
       "0  -49.2647    -8.2578               Tarumã Tropical Hotel  \n",
       "1  -44.5561    -7.2294                 Hotel Premium Piauí  \n",
       "2  -41.9103    -7.8539                             Fidalgo  \n",
       "3  -47.3561    -0.6136  Salinas Park Resort Maçarico AP101  "
      ]
     },
     "execution_count": 99,
     "metadata": {},
     "output_type": "execute_result"
    }
   ],
   "source": [
    "# 8. To create a marker layer map between the four cities.\n",
    "#  Combine the four city DataFrames into one DataFrame using the concat() function.\n",
    "itinerary_df = pd.concat([vacation_start, vacation_stop1, vacation_stop2, vacation_stop3],ignore_index=True)\n",
    "itinerary_df"
   ]
  },
  {
   "cell_type": "code",
   "execution_count": 105,
   "metadata": {},
   "outputs": [],
   "source": [
    "# 9 Using the template add city name, the country code, the weather description and maximum temperature for the city. \n",
    "info_box_template = \"\"\"\n",
    "<dl>\n",
    "<dt>Hotel Name</dt><dd>{hotel_name}</dd>\n",
    "<dt>City</dt><dd>{city}</dd>\n",
    "<dt>Country</dt><dd>{country}</dd>\n",
    "<dt>Weather Description</dt><dd>{weather_description}</dd>\n",
    "<dt>Max Temp</dt><dd>{max_temp}</dd>\n",
    "</dl>\n",
    "\"\"\"\n",
    "\n",
    "# 10a Get the data from each row and add it to the formatting template and store the data in a list.\n",
    "hotel_info = [info_box_template.format(**row) for index, row in itinerary_df.iterrows()]\n",
    "\n",
    "# 10b. Get the latitude and longitude from each row and store in a new DataFrame.\n",
    "locations = itinerary_df[[\"longitude\", \"latitude\"]]"
   ]
  },
  {
   "cell_type": "code",
   "execution_count": 106,
   "metadata": {},
   "outputs": [
    {
     "data": {
      "application/vnd.jupyter.widget-view+json": {
       "model_id": "f180094ff0e34d8b9cc7082aff166c49",
       "version_major": 2,
       "version_minor": 0
      },
      "text/plain": [
       "Figure(layout=FigureLayout(height='420px'))"
      ]
     },
     "metadata": {},
     "output_type": "display_data"
    }
   ],
   "source": [
    "# 11a. Add a marker layer for each city to the map.\n",
    "fig=gmaps.figure(center=(31.0,31.0), zoom_level=1.5)\n",
    "marker_layer = gmaps.marker_layer(locations, info_box_content=hotel_info)\n",
    "fig.add_layer(marker_layer)\n",
    "\n",
    "# 11b. Display the figure\n",
    "fig"
   ]
  },
  {
   "cell_type": "code",
   "execution_count": null,
   "metadata": {},
   "outputs": [],
   "source": []
  }
 ],
 "metadata": {
  "kernelspec": {
   "display_name": "PythonData",
   "language": "python",
   "name": "pythondata"
  },
  "language_info": {
   "codemirror_mode": {
    "name": "ipython",
    "version": 3
   },
   "file_extension": ".py",
   "mimetype": "text/x-python",
   "name": "python",
   "nbconvert_exporter": "python",
   "pygments_lexer": "ipython3",
   "version": "3.7.13"
  },
  "latex_envs": {
   "LaTeX_envs_menu_present": true,
   "autoclose": false,
   "autocomplete": true,
   "bibliofile": "biblio.bib",
   "cite_by": "apalike",
   "current_citInitial": 1,
   "eqLabelWithNumbers": true,
   "eqNumInitial": 1,
   "hotkeys": {
    "equation": "Ctrl-E",
    "itemize": "Ctrl-I"
   },
   "labels_anchors": false,
   "latex_user_defs": false,
   "report_style_numbering": false,
   "user_envs_cfg": false
  }
 },
 "nbformat": 4,
 "nbformat_minor": 2
}
