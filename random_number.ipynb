{
 "cells": [
  {
   "cell_type": "code",
   "execution_count": 24,
   "id": "8c833e2c",
   "metadata": {},
   "outputs": [],
   "source": [
    "#import random module (comes with anaconda/python so you just have to import it)\n",
    "import random \n",
    "\n",
    "#import numpy (can make arrays or matricies of numbers)\n",
    "import numpy as np\n",
    "#if you import numpy, it automatically imports random, so you don't have to import random too\n",
    "\n",
    "#import timeit (shows how long code takes to run)\n",
    "import timeit\n",
    "# add %timeit before any code line to see how long it will take\n",
    "\n",
    "##### 4 most used random module uses \n",
    "##### type random. and then press tab to get all the possibilities"
   ]
  },
  {
   "cell_type": "code",
   "execution_count": 10,
   "id": "3fbba076",
   "metadata": {},
   "outputs": [
    {
     "data": {
      "text/plain": [
       "0.44630686458330726"
      ]
     },
     "execution_count": 10,
     "metadata": {},
     "output_type": "execute_result"
    }
   ],
   "source": [
    "#gets random float number between 0-1\n",
    "random.random()\n"
   ]
  },
  {
   "cell_type": "code",
   "execution_count": 5,
   "id": "1439e75e",
   "metadata": {},
   "outputs": [
    {
     "data": {
      "text/plain": [
       "-2"
      ]
     },
     "execution_count": 5,
     "metadata": {},
     "output_type": "execute_result"
    }
   ],
   "source": [
    "#gets random integer between the two points put in. Also random numbers can be equal to top and bottom values\n",
    "random.randint(-10,10)"
   ]
  },
  {
   "cell_type": "code",
   "execution_count": 8,
   "id": "1226a3fa",
   "metadata": {},
   "outputs": [
    {
     "data": {
      "text/plain": [
       "5"
      ]
     },
     "execution_count": 8,
     "metadata": {},
     "output_type": "execute_result"
    }
   ],
   "source": [
    "#same as random integer above, but random numbers are limited by \"step\" value (third number). Only -9, -7, -5, -3, etc. will be considered\n",
    "random.randrange(-9,9,step=2)"
   ]
  },
  {
   "cell_type": "code",
   "execution_count": 9,
   "id": "dbf0004b",
   "metadata": {},
   "outputs": [
    {
     "data": {
      "text/plain": [
       "6.880005900221406"
      ]
     },
     "execution_count": 9,
     "metadata": {},
     "output_type": "execute_result"
    }
   ],
   "source": [
    "#gets random float from within range. Could round if desired\n",
    "random.uniform(-10,10)"
   ]
  },
  {
   "cell_type": "code",
   "execution_count": 16,
   "id": "3fd166d8",
   "metadata": {},
   "outputs": [
    {
     "data": {
      "text/plain": [
       "10.229635661677504"
      ]
     },
     "execution_count": 16,
     "metadata": {},
     "output_type": "execute_result"
    }
   ],
   "source": [
    "#gets random float between two values\n",
    "random_number = random.randint(-10,10) + random.random()\n",
    "random_number"
   ]
  },
  {
   "cell_type": "code",
   "execution_count": 29,
   "id": "d2905a6c",
   "metadata": {},
   "outputs": [],
   "source": [
    "#getting a list of random lattitude possibilities\n",
    "\n",
    "x = 1\n",
    "\n",
    "lat_list = []\n",
    "\n",
    "\n",
    "while x < 21:\n",
    "    ran_num = random.randint(-90,89) + random.random()\n",
    "    lat_list.append(ran_num)\n",
    "    x=x+1 #could also do x+=1\n",
    "    \n",
    "#lat_list"
   ]
  },
  {
   "cell_type": "code",
   "execution_count": 26,
   "id": "ed81605b",
   "metadata": {},
   "outputs": [
    {
     "name": "stdout",
     "output_type": "stream",
     "text": [
      "2.49 µs ± 8.06 ns per loop (mean ± std. dev. of 7 runs, 100000 loops each)\n"
     ]
    }
   ],
   "source": [
    "# getting a list of longitude possibilities:\n",
    "\n",
    "%timeit np.random.uniform(-90,90, size = 20) #size specifies how many random numbers you want in an array\n",
    "\n",
    "#timeit says 2.49 micro seconds and 8 nano seconds per loop\n"
   ]
  },
  {
   "cell_type": "code",
   "execution_count": 51,
   "id": "fe3a4d4a",
   "metadata": {},
   "outputs": [
    {
     "name": "stdout",
     "output_type": "stream",
     "text": [
      "[-37.35630740381715, 116.61527370957779, 40.96597218597577, -138.36960423280772, 117.15313213839866, -93.88116203942835, 157.86722552446926, 66.86746798685468, 34.99969419774444, -21.854342420780277, -49.956192754317584, 174.48617652035307, -166.62019946306964, -104.35074570292922, -162.9781732781071, -174.94720590477388, -90.78225707997122, 7.04698422549456, -32.74826592980571, 12.773252457038833]\n"
     ]
    }
   ],
   "source": [
    "# comparing time in cell above to getting numbers with a while loop in a function\n",
    "\n",
    "def longitude(size):\n",
    "    x = 0\n",
    "    longitude_list = []\n",
    "    while x < size:\n",
    "        ran_num_2 = random.randint(-180,180) + random.random()\n",
    "        longitude_list.append(ran_num_2)\n",
    "        x+=1\n",
    "    return longitude_list\n",
    "\n",
    "#calling function with 20 random numbers\n",
    "#%timeit longitude(20)\n",
    "#timeit says 17.3 microseconds and 50 nanoseconds per loop. This one is much slower\n",
    "\n",
    "print(longitude(20)) #displaying the output in the return line"
   ]
  },
  {
   "cell_type": "code",
   "execution_count": null,
   "id": "94b0a3ce",
   "metadata": {},
   "outputs": [],
   "source": []
  }
 ],
 "metadata": {
  "kernelspec": {
   "display_name": "PythonData",
   "language": "python",
   "name": "pythondata"
  },
  "language_info": {
   "codemirror_mode": {
    "name": "ipython",
    "version": 3
   },
   "file_extension": ".py",
   "mimetype": "text/x-python",
   "name": "python",
   "nbconvert_exporter": "python",
   "pygments_lexer": "ipython3",
   "version": "3.7.13"
  }
 },
 "nbformat": 4,
 "nbformat_minor": 5
}
